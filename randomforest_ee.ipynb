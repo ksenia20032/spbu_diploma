{
 "cells": [
  {
   "cell_type": "code",
   "execution_count": 3,
   "id": "2ada2fd8-cac2-4fe3-9b52-a345e3108572",
   "metadata": {},
   "outputs": [
    {
     "name": "stdout",
     "output_type": "stream",
     "text": [
      "Время обучения: 0.93 сек\n",
      "MSE: 1.5875\n",
      "MAE: 0.7076\n"
     ]
    }
   ],
   "source": [
    "import pandas as pd\n",
    "import numpy as np\n",
    "from sklearn.model_selection import train_test_split\n",
    "from sklearn.multioutput import MultiOutputRegressor\n",
    "from sklearn.ensemble import RandomForestRegressor\n",
    "from sklearn.metrics import mean_squared_error, mean_absolute_error\n",
    "import time\n",
    "\n",
    "# Загрузка данных\n",
    "file_path = \"ENB2012_data.xlsx\"  # Укажите правильный путь к файлу\n",
    "df = pd.read_excel(file_path)\n",
    "\n",
    "# Переименование столбцов\n",
    "columns = [\n",
    "    'Relative_Compactness', 'Surface_Area', 'Wall_Area', 'Roof_Area',\n",
    "    'Overall_Height', 'Orientation', 'Glazing_Area', 'Glazing_Area_Distribution',\n",
    "    'Heating_Load', 'Cooling_Load'\n",
    "]\n",
    "df.columns = columns\n",
    "\n",
    "# Разделение на признаки и целевую переменную\n",
    "X = df.iloc[:, :8]\n",
    "y = df.iloc[:, 8:]\n",
    "\n",
    "# Разделение на тренировочную и тестовую выборки\n",
    "X_train, X_test, y_train, y_test = train_test_split(\n",
    "    X, y, test_size=0.2, random_state=42\n",
    ")\n",
    "\n",
    "# Инициализация модели\n",
    "start_time = time.time()\n",
    "model = MultiOutputRegressor(RandomForestRegressor(\n",
    "    n_estimators=100,\n",
    "    random_state=42\n",
    "))\n",
    "\n",
    "# Обучение модели\n",
    "model.fit(X_train, y_train)\n",
    "train_time = time.time() - start_time\n",
    "\n",
    "# Предсказание\n",
    "start_pred = time.time()\n",
    "y_pred = model.predict(X_test)\n",
    "pred_time = time.time() - start_pred\n",
    "\n",
    "# Расчет метрик\n",
    "mse = mean_squared_error(y_test, y_pred)\n",
    "mae = mean_absolute_error(y_test, y_pred)\n",
    "\n",
    "# Вывод результатов\n",
    "print(f\"Время обучения: {train_time:.2f} сек\")\n",
    "print(f\"MSE: {mse:.4f}\")\n",
    "print(f\"MAE: {mae:.4f}\")"
   ]
  },
  {
   "cell_type": "code",
   "execution_count": null,
   "id": "c70ba067-1df2-47a2-b7cd-b9453503cff4",
   "metadata": {},
   "outputs": [],
   "source": []
  }
 ],
 "metadata": {
  "kernelspec": {
   "display_name": "Python 3 (ipykernel)",
   "language": "python",
   "name": "python3"
  },
  "language_info": {
   "codemirror_mode": {
    "name": "ipython",
    "version": 3
   },
   "file_extension": ".py",
   "mimetype": "text/x-python",
   "name": "python",
   "nbconvert_exporter": "python",
   "pygments_lexer": "ipython3",
   "version": "3.11.0"
  }
 },
 "nbformat": 4,
 "nbformat_minor": 5
}
