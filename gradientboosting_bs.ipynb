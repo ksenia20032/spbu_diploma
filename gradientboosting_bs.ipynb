{
 "cells": [
  {
   "cell_type": "code",
   "execution_count": 1,
   "id": "912f23c0-fa29-4fd5-9079-e61a00562f0b",
   "metadata": {},
   "outputs": [
    {
     "name": "stdout",
     "output_type": "stream",
     "text": [
      "Время обучения: 1.93 сек\n",
      "MSE: 421663.00\n",
      "MAE: 433.43\n"
     ]
    }
   ],
   "source": [
    "import pandas as pd\n",
    "from sklearn.model_selection import train_test_split\n",
    "from sklearn.ensemble import GradientBoostingRegressor\n",
    "from sklearn.metrics import mean_squared_error, mean_absolute_error\n",
    "import time\n",
    "\n",
    "# 1. Загрузка данных\n",
    "df = pd.read_csv(\"day.csv\")\n",
    "\n",
    "# 2. Предобработка данных\n",
    "df = df.drop(['instant', 'dteday', 'casual', 'registered'], axis=1)\n",
    "df = df.rename(columns={\n",
    "    'yr': 'year',\n",
    "    'mnth': 'month',\n",
    "    'weathersit': 'weather',\n",
    "    'cnt': 'total_rentals'\n",
    "})\n",
    "\n",
    "# 3. Преобразование категориальных признаков\n",
    "categorical_features = ['season', 'month', 'weekday', 'weather']\n",
    "df[categorical_features] = df[categorical_features].astype('category')\n",
    "df = pd.get_dummies(df, columns=categorical_features, drop_first=True)\n",
    "\n",
    "# 4. Разделение данных\n",
    "X = df.drop('total_rentals', axis=1)\n",
    "y = df['total_rentals']\n",
    "X_train, X_test, y_train, y_test = train_test_split(X, y, test_size=0.2, random_state=42)\n",
    "\n",
    "# 5. Создание и обучение модели\n",
    "start_time = time.time()\n",
    "\n",
    "gb_model = GradientBoostingRegressor(\n",
    "    n_estimators=300,\n",
    "    learning_rate=0.1,\n",
    "    max_depth=5,\n",
    "    random_state=42,\n",
    "    subsample=0.8\n",
    ")\n",
    "\n",
    "gb_model.fit(X_train, y_train)\n",
    "training_time = time.time() - start_time\n",
    "\n",
    "# 6. Предсказание и оценка\n",
    "start_pred = time.time()\n",
    "y_pred = gb_model.predict(X_test)\n",
    "prediction_time = time.time() - start_pred\n",
    "\n",
    "# 7. Расчет метрик\n",
    "mse = mean_squared_error(y_test, y_pred)\n",
    "mae = mean_absolute_error(y_test, y_pred)\n",
    "\n",
    "# 8. Вывод результатов\n",
    "print(f\"Время обучения: {training_time:.2f} сек\")\n",
    "print(f\"MSE: {mse:.2f}\")\n",
    "print(f\"MAE: {mae:.2f}\")"
   ]
  },
  {
   "cell_type": "code",
   "execution_count": null,
   "id": "427a9071-3a53-4c17-ad2c-0fbe9344a92b",
   "metadata": {},
   "outputs": [],
   "source": []
  }
 ],
 "metadata": {
  "kernelspec": {
   "display_name": "Python 3 (ipykernel)",
   "language": "python",
   "name": "python3"
  },
  "language_info": {
   "codemirror_mode": {
    "name": "ipython",
    "version": 3
   },
   "file_extension": ".py",
   "mimetype": "text/x-python",
   "name": "python",
   "nbconvert_exporter": "python",
   "pygments_lexer": "ipython3",
   "version": "3.11.0"
  }
 },
 "nbformat": 4,
 "nbformat_minor": 5
}
