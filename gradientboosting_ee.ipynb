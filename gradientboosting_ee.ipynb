{
 "cells": [
  {
   "cell_type": "code",
   "execution_count": 5,
   "id": "fcc9eaf8-af3a-4aea-b84c-2a4c41c3165c",
   "metadata": {},
   "outputs": [
    {
     "name": "stdout",
     "output_type": "stream",
     "text": [
      "Время обучения: 0.57 сек\n",
      "MSE: 0.5988\n",
      "MAE: 0.4849\n"
     ]
    }
   ],
   "source": [
    "import pandas as pd\n",
    "from sklearn.model_selection import train_test_split\n",
    "from sklearn.multioutput import MultiOutputRegressor\n",
    "from sklearn.ensemble import GradientBoostingRegressor\n",
    "from sklearn.metrics import mean_squared_error, mean_absolute_error\n",
    "import time\n",
    "\n",
    "# Загрузка данных\n",
    "file_path = \"ENB2012_data.xlsx\"  # Укажите правильный путь к файлу\n",
    "df = pd.read_excel(file_path)\n",
    "\n",
    "# Переименование столбцов\n",
    "columns = [\n",
    "    'Relative_Compactness', 'Surface_Area', 'Wall_Area', 'Roof_Area',\n",
    "    'Overall_Height', 'Orientation', 'Glazing_Area', 'Glazing_Area_Distribution',\n",
    "    'Heating_Load', 'Cooling_Load'\n",
    "]\n",
    "df.columns = columns\n",
    "\n",
    "# Разделение данных\n",
    "X = df.iloc[:, :8]\n",
    "y = df[['Heating_Load', 'Cooling_Load']]\n",
    "\n",
    "# Разделение на тренировочную и тестовую выборки\n",
    "X_train, X_test, y_train, y_test = train_test_split(\n",
    "    X, y, test_size=0.2, random_state=42\n",
    ")\n",
    "\n",
    "# Создание и обучение модели\n",
    "start_time = time.time()\n",
    "\n",
    "model = MultiOutputRegressor(\n",
    "    GradientBoostingRegressor(\n",
    "        n_estimators=200,\n",
    "        learning_rate=0.1,\n",
    "        max_depth=4,\n",
    "        random_state=42\n",
    "    )\n",
    ")\n",
    "\n",
    "model.fit(X_train, y_train)\n",
    "train_time = time.time() - start_time\n",
    "\n",
    "# Предсказание и оценка\n",
    "start_pred = time.time()\n",
    "y_pred = model.predict(X_test)\n",
    "pred_time = time.time() - start_pred\n",
    "\n",
    "mse = mean_squared_error(y_test, y_pred)\n",
    "mae = mean_absolute_error(y_test, y_pred)\n",
    "\n",
    "# Вывод результатов\n",
    "print(f\"Время обучения: {train_time:.2f} сек\")\n",
    "print(f\"MSE: {mse:.4f}\")\n",
    "print(f\"MAE: {mae:.4f}\")"
   ]
  },
  {
   "cell_type": "code",
   "execution_count": null,
   "id": "d93b92b3-dc5f-4bce-9238-dfa7ef83bc68",
   "metadata": {},
   "outputs": [],
   "source": []
  }
 ],
 "metadata": {
  "kernelspec": {
   "display_name": "Python 3 (ipykernel)",
   "language": "python",
   "name": "python3"
  },
  "language_info": {
   "codemirror_mode": {
    "name": "ipython",
    "version": 3
   },
   "file_extension": ".py",
   "mimetype": "text/x-python",
   "name": "python",
   "nbconvert_exporter": "python",
   "pygments_lexer": "ipython3",
   "version": "3.11.0"
  }
 },
 "nbformat": 4,
 "nbformat_minor": 5
}
