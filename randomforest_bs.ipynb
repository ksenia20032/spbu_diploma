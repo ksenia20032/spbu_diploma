{
 "cells": [
  {
   "cell_type": "code",
   "execution_count": 4,
   "id": "a851fc74-8c44-4125-849b-e205a1763ab9",
   "metadata": {},
   "outputs": [
    {
     "name": "stdout",
     "output_type": "stream",
     "text": [
      "Время обучения: 0.61 сек\n",
      "MSE: 537215.25\n",
      "MAE: 486.52\n"
     ]
    }
   ],
   "source": [
    "import pandas as pd\n",
    "import numpy as np\n",
    "from sklearn.model_selection import train_test_split\n",
    "from sklearn.ensemble import RandomForestRegressor\n",
    "from sklearn.metrics import mean_squared_error, mean_absolute_error\n",
    "import time\n",
    "\n",
    "# Загрузка данных\n",
    "file_path = \"day.csv\"  # Укажите правильный путь к файлу\n",
    "df = pd.read_csv(file_path)\n",
    "\n",
    "# Удаление технических столбцов\n",
    "df = df.drop(['instant', 'dteday', 'casual', 'registered'], axis=1)\n",
    "\n",
    "# Переименование столбцов\n",
    "column_mapping = {\n",
    "    'yr': 'year',\n",
    "    'mnth': 'month',\n",
    "    'holiday': 'is_holiday',\n",
    "    'weekday': 'weekday',\n",
    "    'workingday': 'working_day',\n",
    "    'weathersit': 'weather_situation',\n",
    "    'temp': 'temperature',\n",
    "    'atemp': 'feeling_temperature',\n",
    "    'hum': 'humidity',\n",
    "    'windspeed': 'wind_speed',\n",
    "    'cnt': 'total_rentals'\n",
    "}\n",
    "df = df.rename(columns=column_mapping)\n",
    "\n",
    "# Разделение на признаки и целевую переменную\n",
    "X = df.drop('total_rentals', axis=1)\n",
    "y = df['total_rentals']\n",
    "\n",
    "# Преобразование категориальных признаков\n",
    "cat_features = ['season', 'month', 'weekday', 'weather_situation']\n",
    "X[cat_features] = X[cat_features].astype('category')\n",
    "\n",
    "# One-Hot Encoding\n",
    "X = pd.get_dummies(X, columns=cat_features, drop_first=True)\n",
    "\n",
    "# Разделение данных\n",
    "X_train, X_test, y_train, y_test = train_test_split(\n",
    "    X, y, test_size=0.2, random_state=42\n",
    ")\n",
    "\n",
    "# Создание и обучение модели\n",
    "start_time = time.time()\n",
    "model = RandomForestRegressor(\n",
    "    n_estimators=100,\n",
    "    max_depth=10,\n",
    "    random_state=42,\n",
    "    n_jobs=-1\n",
    ")\n",
    "model.fit(X_train, y_train)\n",
    "train_time = time.time() - start_time\n",
    "\n",
    "# Предсказание\n",
    "start_pred = time.time()\n",
    "y_pred = model.predict(X_test)\n",
    "pred_time = time.time() - start_pred\n",
    "\n",
    "# Расчет метрик\n",
    "mse = mean_squared_error(y_test, y_pred)\n",
    "mae = mean_absolute_error(y_test, y_pred)\n",
    "\n",
    "# Вывод результатов\n",
    "print(f\"Время обучения: {train_time:.2f} сек\")\n",
    "print(f\"MSE: {mse:.2f}\")\n",
    "print(f\"MAE: {mae:.2f}\")"
   ]
  },
  {
   "cell_type": "code",
   "execution_count": null,
   "id": "d877740d-32ee-4323-a19e-b5d2854cfb2f",
   "metadata": {},
   "outputs": [],
   "source": []
  }
 ],
 "metadata": {
  "kernelspec": {
   "display_name": "Python 3 (ipykernel)",
   "language": "python",
   "name": "python3"
  },
  "language_info": {
   "codemirror_mode": {
    "name": "ipython",
    "version": 3
   },
   "file_extension": ".py",
   "mimetype": "text/x-python",
   "name": "python",
   "nbconvert_exporter": "python",
   "pygments_lexer": "ipython3",
   "version": "3.11.0"
  }
 },
 "nbformat": 4,
 "nbformat_minor": 5
}
